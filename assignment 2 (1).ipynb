{
 "cells": [
  {
   "cell_type": "code",
   "execution_count": null,
   "id": "639cd116-feee-49dd-90d2-c405f7bc2e40",
   "metadata": {},
   "outputs": [],
   "source": [
    "# Q1. How do you comment code in Python? What are the different types of comments?\n",
    "\n",
    "# comment code in python can be done by putting '#' in fron tof the commment line\n",
    "# this is example of first type of comment\n",
    "'''This is second or multi level type of comment\n",
    "it is mainly use to comment entire paragraph or many lines'''\n",
    "'This is second or multi level type of comment\\nit is mainly use to comment entire paragraph or many lines'"
   ]
  },
  {
   "cell_type": "code",
   "execution_count": 1,
   "id": "24ad9206-41f6-4316-b63e-a02c875c2783",
   "metadata": {},
   "outputs": [
    {
     "name": "stdout",
     "output_type": "stream",
     "text": [
      "4\n"
     ]
    }
   ],
   "source": [
    "# Q2. What are variables in Python? How do you declare and assign values to variables?\n",
    "# varibles ar nothing but the name of the charcter in which data is stored , it can be of any type of alphanumeric \n",
    "# declaring variable name as prem and assigniing value of 4 in it\n",
    "#example \n",
    "prem=4\n",
    "print(prem)"
   ]
  },
  {
   "cell_type": "code",
   "execution_count": 2,
   "id": "50909d76-f237-4734-8ac1-7d47016d753e",
   "metadata": {},
   "outputs": [
    {
     "data": {
      "text/plain": [
       "'4'"
      ]
     },
     "execution_count": 2,
     "metadata": {},
     "output_type": "execute_result"
    }
   ],
   "source": [
    "# Q3. How do you convert one data type to another in Python?\n",
    "# simply type the converting type and assign the variable of another type\n",
    "# eg we have taken prem as integer now converting into string format\n",
    "str(prem)"
   ]
  },
  {
   "cell_type": "code",
   "execution_count": null,
   "id": "22926589-3205-4b08-aec0-9c6a6f9eb8ca",
   "metadata": {},
   "outputs": [],
   "source": [
    "# Q4. How do you write and execute a Python script from the command line?\n",
    "# to execute python script simply enter it or in jupiter notebook it will be Shift + Enter"
   ]
  },
  {
   "cell_type": "code",
   "execution_count": 3,
   "id": "47653ebe-32f0-460a-a07c-b88cc1a02fcb",
   "metadata": {},
   "outputs": [
    {
     "data": {
      "text/plain": [
       "[2, 3]"
      ]
     },
     "execution_count": 3,
     "metadata": {},
     "output_type": "execute_result"
    }
   ],
   "source": [
    "# Q5. Given a list my_list = [1, 2, 3, 4, 5], write the code to slice the list and obtain the sub-list [2, 3].\n",
    "my_list=[1,2,3,4,5]\n",
    "my_list[1:3]"
   ]
  },
  {
   "cell_type": "code",
   "execution_count": 4,
   "id": "1e74bab0-fc65-4710-a5b7-f90badb5e60e",
   "metadata": {},
   "outputs": [
    {
     "data": {
      "text/plain": [
       "complex"
      ]
     },
     "execution_count": 4,
     "metadata": {},
     "output_type": "execute_result"
    }
   ],
   "source": [
    "# Q6. What is a complex number in mathematics, and how is it represented in Python?\n",
    "# Complex no is the combination of real and imaginary number\n",
    "# its format is x+yi where x and y is real and i is imaginary no.\n",
    "\n",
    "# in python its writen in same format Eg - 6+7j\n",
    "p=6+7j\n",
    "type(p)"
   ]
  },
  {
   "cell_type": "code",
   "execution_count": 5,
   "id": "4d6cdf80-e4e2-4a23-ba7d-9e46e9adcc8e",
   "metadata": {},
   "outputs": [
    {
     "name": "stdout",
     "output_type": "stream",
     "text": [
      "25\n"
     ]
    }
   ],
   "source": [
    "# Q7. What is the correct way to declare a variable named age and assign the value 25 to it\n",
    "# simply decalre and assign the varriable , follow below:  \n",
    "age=25\n",
    "print(age)"
   ]
  },
  {
   "cell_type": "markdown",
   "id": "ae8cedf5-de29-47ce-92f6-34662f940520",
   "metadata": {},
   "source": []
  },
  {
   "cell_type": "code",
   "execution_count": 6,
   "id": "59409cf7-9336-4cdf-8d86-9cb390969e83",
   "metadata": {},
   "outputs": [
    {
     "data": {
      "text/plain": [
       "float"
      ]
     },
     "execution_count": 6,
     "metadata": {},
     "output_type": "execute_result"
    }
   ],
   "source": [
    "# Q8. Declare a variable named price and assign the value 9.99 to it. What data type does this variable belong to?\n",
    "price=9.99\n",
    "type(price)"
   ]
  },
  {
   "cell_type": "code",
   "execution_count": 7,
   "id": "55d289e8-4cf0-4314-bfa7-4073622b5f2c",
   "metadata": {},
   "outputs": [
    {
     "name": "stdout",
     "output_type": "stream",
     "text": [
      "prem modsing\n"
     ]
    }
   ],
   "source": [
    "# Q9. Create a variable named name and assign your full name to it as a string. How would you print the value of this variable?\n",
    "name =\"prem modsing\"\n",
    "print(name)"
   ]
  },
  {
   "cell_type": "code",
   "execution_count": 9,
   "id": "a93207cb-89ed-4f96-b7ea-84c30bcec2c5",
   "metadata": {},
   "outputs": [
    {
     "data": {
      "text/plain": [
       "'World!'"
      ]
     },
     "execution_count": 9,
     "metadata": {},
     "output_type": "execute_result"
    }
   ],
   "source": [
    "# Q10. Given the string \"Hello, World!\", extract the substring \"World\".\n",
    "prem=\"Hello, World!\"\n",
    "prem[7:13]"
   ]
  },
  {
   "cell_type": "code",
   "execution_count": null,
   "id": "197c5443-7935-49e7-8f5a-9019912270ea",
   "metadata": {},
   "outputs": [],
   "source": [
    "# Q11. Create a variable named \"is_student\" and assign it a boolean value indicating whether you are currently a student or not.\n",
    "is_student=True"
   ]
  }
 ],
 "metadata": {
  "kernelspec": {
   "display_name": "Python 3 (ipykernel)",
   "language": "python",
   "name": "python3"
  },
  "language_info": {
   "codemirror_mode": {
    "name": "ipython",
    "version": 3
   },
   "file_extension": ".py",
   "mimetype": "text/x-python",
   "name": "python",
   "nbconvert_exporter": "python",
   "pygments_lexer": "ipython3",
   "version": "3.10.8"
  }
 },
 "nbformat": 4,
 "nbformat_minor": 5
}
