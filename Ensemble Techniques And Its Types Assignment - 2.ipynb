{
 "cells": [
  {
   "cell_type": "code",
   "execution_count": 1,
   "metadata": {},
   "outputs": [],
   "source": [
    "# Q1. How does bagging reduce overfitting in decision trees?\n",
    "# A1: \n",
    "# Bagging reduces overfitting in decision trees by training multiple models on different subsets of the data\n",
    "# (obtained via resampling with replacement). The models' predictions are aggregated, reducing the impact\n",
    "# of individual models that overfit the data. This works particularly well for high-variance models like decision trees."
   ]
  },
  {
   "cell_type": "code",
   "execution_count": 2,
   "metadata": {},
   "outputs": [],
   "source": [
    "# Q2. What are the advantages and disadvantages of using different types of base learners in bagging?\n",
    "# A2: \n",
    "# Advantages:\n",
    "# - High-variance base learners (e.g., decision trees) benefit significantly from bagging as it stabilizes their predictions.\n",
    "# - Flexible choice of base learners allows tailoring to specific tasks.\n",
    "#\n",
    "# Disadvantages:\n",
    "# - Low-variance models (e.g., linear regression) may not benefit as much from bagging.\n",
    "# - Increased computational cost due to training multiple models."
   ]
  },
  {
   "cell_type": "code",
   "execution_count": 3,
   "metadata": {},
   "outputs": [],
   "source": [
    "# Q3. How does the choice of base learner affect the bias-variance tradeoff in bagging?\n",
    "# A3: \n",
    "# The choice of base learner affects the bias-variance tradeoff:\n",
    "# - High-variance learners (e.g., deep decision trees) benefit from reduced variance but retain low bias.\n",
    "# - Low-variance learners (e.g., linear models) have minimal reduction in variance, leading to less improvement.\n",
    "# The overall effect depends on the nature of the dataset and the model complexity."
   ]
  },
  {
   "cell_type": "code",
   "execution_count": 4,
   "metadata": {},
   "outputs": [],
   "source": [
    " #Q4. Can bagging be used for both classification and regression tasks? How does it differ in each case?\n",
    "# A4: \n",
    "# Yes, bagging can be used for both classification and regression tasks:\n",
    "# - For classification, predictions are aggregated using majority voting across the ensemble models.\n",
    "# - For regression, predictions are aggregated using the average of the outputs from all ensemble models.\n",
    "# The core mechanism remains the same, but the aggregation strategy differs based on the task."
   ]
  },
  {
   "cell_type": "code",
   "execution_count": 5,
   "metadata": {},
   "outputs": [],
   "source": [
    "# Q5. What is the role of ensemble size in bagging? How many models should be included in the ensemble?\n",
    "# A5: \n",
    "# The ensemble size impacts the performance of bagging:\n",
    "# - Larger ensembles generally improve performance up to a certain point, after which returns diminish.\n",
    "# - The optimal size depends on the dataset, computational resources, and the complexity of the base learner.\n",
    "# In practice, a size of 50-200 models is often sufficient for most tasks."
   ]
  },
  {
   "cell_type": "code",
   "execution_count": 6,
   "metadata": {},
   "outputs": [],
   "source": [
    "\n",
    "# Q6. Can you provide an example of a real-world application of bagging in machine learning?\n",
    "# A6: \n",
    "# A real-world application of bagging is in Random Forest, which uses bagging with decision trees as base learners.\n",
    "# It is widely applied in tasks such as:\n",
    "# - Fraud detection in financial transactions.\n",
    "# - Disease diagnosis in medical imaging.\n",
    "# - Customer churn prediction in marketing analytics.\n",
    "# Bagging helps improve prediction stability and accuracy in these applications by combining multiple models."
   ]
  }
 ],
 "metadata": {
  "kernelspec": {
   "display_name": "Python 3",
   "language": "python",
   "name": "python3"
  },
  "language_info": {
   "codemirror_mode": {
    "name": "ipython",
    "version": 3
   },
   "file_extension": ".py",
   "mimetype": "text/x-python",
   "name": "python",
   "nbconvert_exporter": "python",
   "pygments_lexer": "ipython3",
   "version": "3.11.9"
  }
 },
 "nbformat": 4,
 "nbformat_minor": 2
}
