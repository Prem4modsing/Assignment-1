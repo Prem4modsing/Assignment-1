{
 "cells": [
  {
   "cell_type": "code",
   "execution_count": 1,
   "id": "5c4b3064-e836-476d-a225-83885eba18aa",
   "metadata": {},
   "outputs": [
    {
     "name": "stdout",
     "output_type": "stream",
     "text": [
      "<class 'str'>\n",
      "<class 'list'>\n",
      "<class 'float'>\n",
      "<class 'tuple'>\n"
     ]
    }
   ],
   "source": [
    "# question no 1\n",
    "a=\"prem\"\n",
    "b=[1,2,3,4,5,6]\n",
    "c=14.4\n",
    "d=(1,2,\"prem\",3.4,True)\n",
    "print(type(a))\n",
    "print(type(b))\n",
    "print(type(c))\n",
    "print(type(d))\n"
   ]
  },
  {
   "cell_type": "code",
   "execution_count": 2,
   "id": "0cf53f38-dba1-435c-9ecf-b2301b72634a",
   "metadata": {},
   "outputs": [
    {
     "name": "stdout",
     "output_type": "stream",
     "text": [
      "<class 'str'>\n",
      "<class 'str'>\n",
      "<class 'list'>\n",
      "<class 'float'>\n"
     ]
    }
   ],
   "source": [
    "# question no 2\n",
    "var1=''\n",
    "var2='[ DS , ML , Python]'\n",
    "var3=[ 'DS' , 'ML' ,' Python']\n",
    "var4=1.\n",
    "print(type(var1))\n",
    "print(type(var2))\n",
    "print(type(var3))\n",
    "print(type(var4))"
   ]
  },
  {
   "cell_type": "code",
   "execution_count": 3,
   "id": "f635df77-348b-46ac-ae83-1f8dd73339f7",
   "metadata": {},
   "outputs": [
    {
     "name": "stdout",
     "output_type": "stream",
     "text": [
      "2.0\n",
      "0\n",
      "2\n",
      "100000\n"
     ]
    }
   ],
   "source": [
    "# question no 3\n",
    "a=10\n",
    "b=5\n",
    "c=a/b\n",
    "print(c) #use to divide numbers\n",
    "c=a%b\n",
    "print(c) #use to read the remainder\n",
    "c=a//b\n",
    "print(c) \n",
    "c=a**b\n",
    "print(c) #multiple the number by itself till b"
   ]
  },
  {
   "cell_type": "code",
   "execution_count": 1,
   "id": "447e4900-1cc2-4905-a39e-a03e0fe3f3a9",
   "metadata": {},
   "outputs": [
    {
     "name": "stdout",
     "output_type": "stream",
     "text": [
      "<class 'int'>\n",
      "<class 'int'>\n",
      "<class 'int'>\n",
      "<class 'int'>\n",
      "<class 'int'>\n",
      "<class 'float'>\n",
      "<class 'bool'>\n",
      "<class 'str'>\n",
      "<class 'tuple'>\n",
      "<class 'complex'>\n"
     ]
    }
   ],
   "source": [
    "# question no 4\n",
    "l=[1,2,3,4,5,7.8,True,\"prem\",(1,2,\"prem\"),3+7j]\n",
    "for i in l:\n",
    "         print(type(i))\n"
   ]
  },
  {
   "cell_type": "code",
   "execution_count": 1,
   "id": "738277f0-db4c-4f5c-b86e-6f026f61fd7a",
   "metadata": {},
   "outputs": [
    {
     "name": "stdout",
     "output_type": "stream",
     "text": [
      "a is divisible by b\n",
      "2 is the number of time numbers can divisible\n"
     ]
    }
   ],
   "source": [
    "# question no 5\n",
    "a=10\n",
    "b=5\n",
    "while (a%b==0):\n",
    "    print(\"a is divisible by b\")\n",
    "    break\n",
    "print(a//b,\"is the number of time numbers can divisible\")  \n",
    "    \n"
   ]
  },
  {
   "cell_type": "code",
   "execution_count": 4,
   "id": "3d02e4d5-7320-4f95-82e3-4e5ba9b46c7a",
   "metadata": {},
   "outputs": [
    {
     "name": "stdout",
     "output_type": "stream",
     "text": [
      "1  is not divisible by 3\n",
      "2  is not divisible by 3\n",
      "3  is divible by 3\n",
      "4  is not divisible by 3\n",
      "5  is not divisible by 3\n",
      "6  is divible by 3\n",
      "7  is not divisible by 3\n",
      "8  is not divisible by 3\n",
      "9  is divible by 3\n",
      "10  is not divisible by 3\n",
      "11  is not divisible by 3\n",
      "12  is divible by 3\n",
      "13  is not divisible by 3\n",
      "14  is not divisible by 3\n",
      "15  is divible by 3\n",
      "16  is not divisible by 3\n",
      "17  is not divisible by 3\n",
      "18  is divible by 3\n",
      "19  is not divisible by 3\n",
      "20  is not divisible by 3\n",
      "21  is divible by 3\n",
      "22  is not divisible by 3\n",
      "23  is not divisible by 3\n",
      "24  is divible by 3\n",
      "25  is not divisible by 3\n"
     ]
    }
   ],
   "source": [
    "# question no 6\n",
    "l=[1,2,3,4,5,6,7,8,9,10,11,12,13,14,15,16,17,18,19,20,21,22,23,24,25]\n",
    "for i in l:\n",
    "    if(i%3==0):\n",
    "        print(i,\" is divible by 3\")\n",
    "    else:\n",
    "        print(i,\" is not divisible by 3\")\n"
   ]
  },
  {
   "cell_type": "code",
   "execution_count": 5,
   "id": "1fb6684a-6a5c-4ab1-8d2c-011febd07ea3",
   "metadata": {},
   "outputs": [
    {
     "name": "stdout",
     "output_type": "stream",
     "text": [
      "[1, 2, 'prem', 4, 5, 6, 'prem']\n"
     ]
    }
   ],
   "source": [
    "# question no 7\n",
    "# 1 mutable datatypes\n",
    "# In mutable datatype we can change the index number or add or remover the element in the particular index\n",
    "l=[1,2,3,4,5,6,\"prem\"]\n",
    "l[2]=\"prem\"\n",
    "print(l)"
   ]
  },
  {
   "cell_type": "code",
   "execution_count": 6,
   "id": "ae8aa724-52b6-474b-ab1a-cdabb4957fd9",
   "metadata": {},
   "outputs": [
    {
     "ename": "TypeError",
     "evalue": "'str' object does not support item assignment",
     "output_type": "error",
     "traceback": [
      "\u001b[0;31m---------------------------------------------------------------------------\u001b[0m",
      "\u001b[0;31mTypeError\u001b[0m                                 Traceback (most recent call last)",
      "Cell \u001b[0;32mIn[6], line 4\u001b[0m\n\u001b[1;32m      1\u001b[0m \u001b[38;5;66;03m#2 immutable datatye\u001b[39;00m\n\u001b[1;32m      2\u001b[0m \u001b[38;5;66;03m# In immutable datatype we can not change the element in the particular index\u001b[39;00m\n\u001b[1;32m      3\u001b[0m p\u001b[38;5;241m=\u001b[39m\u001b[38;5;124m\"\u001b[39m\u001b[38;5;124mprem\u001b[39m\u001b[38;5;124m\"\u001b[39m\n\u001b[0;32m----> 4\u001b[0m \u001b[43mp\u001b[49m\u001b[43m[\u001b[49m\u001b[38;5;241;43m2\u001b[39;49m\u001b[43m]\u001b[49m\u001b[38;5;241m=\u001b[39m\u001b[38;5;124m\"\u001b[39m\u001b[38;5;124mr\u001b[39m\u001b[38;5;124m\"\u001b[39m\n\u001b[1;32m      5\u001b[0m \u001b[38;5;28mprint\u001b[39m(p)\n",
      "\u001b[0;31mTypeError\u001b[0m: 'str' object does not support item assignment"
     ]
    }
   ],
   "source": [
    "#2 immutable datatye\n",
    "# In immutable datatype we can not change the element in the particular index\n",
    "p=\"prem\"\n",
    "p[2]=\"r\"\n",
    "print(p)"
   ]
  },
  {
   "cell_type": "code",
   "execution_count": null,
   "id": "2151f922-6649-4c73-bedd-8b4aa56c428e",
   "metadata": {},
   "outputs": [],
   "source": []
  }
 ],
 "metadata": {
  "kernelspec": {
   "display_name": "Python 3 (ipykernel)",
   "language": "python",
   "name": "python3"
  },
  "language_info": {
   "codemirror_mode": {
    "name": "ipython",
    "version": 3
   },
   "file_extension": ".py",
   "mimetype": "text/x-python",
   "name": "python",
   "nbconvert_exporter": "python",
   "pygments_lexer": "ipython3",
   "version": "3.10.8"
  }
 },
 "nbformat": 4,
 "nbformat_minor": 5
}
