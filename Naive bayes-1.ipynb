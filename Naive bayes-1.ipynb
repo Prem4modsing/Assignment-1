{
 "cells": [
  {
   "cell_type": "code",
   "execution_count": 1,
   "metadata": {},
   "outputs": [],
   "source": [
    "# Q1. What is Bayes' theorem?\n",
    "# A: Bayes' theorem describes the probability of an event based on prior knowledge of conditions that might be related to the event. It is given by:\n",
    "# P(A|B) = [P(B|A) * P(A)] / P(B)\n",
    "\n",
    "# Q2. What is the formula for Bayes' theorem?\n",
    "# A: Bayes' theorem formula is:\n",
    "# P(A|B) = [P(B|A) * P(A)] / P(B)"
   ]
  },
  {
   "cell_type": "code",
   "execution_count": 2,
   "metadata": {},
   "outputs": [],
   "source": [
    "# Q3. How is Bayes' theorem used in practice?\n",
    "# A: Bayes' theorem is used in various domains including spam filtering, medical diagnosis, machine learning algorithms like Naive Bayes, and risk assessment.\n",
    "\n",
    "# Q4. What is the relationship between Bayes' theorem and conditional probability?\n",
    "# A: Bayes' theorem is a mathematical representation of conditional probability, describing how to update the probability of a hypothesis as more evidence becomes available."
   ]
  },
  {
   "cell_type": "code",
   "execution_count": 3,
   "metadata": {},
   "outputs": [],
   "source": [
    "# Q5. How do you choose which type of Naive Bayes classifier to use for any given problem?\n",
    "# A: The choice depends on the type of data:\n",
    "# - Gaussian Naive Bayes: Continuous data assumed to follow a Gaussian distribution.\n",
    "# - Multinomial Naive Bayes: Discrete data such as word counts in text classification.\n",
    "# - Bernoulli Naive Bayes: Binary data, like success/failure outcomes."
   ]
  },
  {
   "cell_type": "code",
   "execution_count": 5,
   "metadata": {},
   "outputs": [
    {
     "name": "stdout",
     "output_type": "stream",
     "text": [
      "Class A posterior: 0.0113\n",
      "Class B posterior: 0.0077\n",
      "Predicted class: A\n"
     ]
    }
   ],
   "source": [
    "# Q6. Problem Solution\n",
    "\n",
    "# Dataset provided:\n",
    "# Class \\ X1=1 X1=2 X1=3 X2=1 X2=2 X2=3 X2=4\n",
    "# A         3     3     4     4     3     3     3\n",
    "# B         2     2     1     2     2     2     3\n",
    "\n",
    "# Prior Probabilities:\n",
    "P_A = 0.5  # Assuming equal priors\n",
    "P_B = 0.5\n",
    "\n",
    "# Likelihood Calculation:\n",
    "def calculate_likelihood(counts, total, value):\n",
    "    return counts[value - 1] / total\n",
    "\n",
    "# Class A likelihoods:\n",
    "total_A = sum([3, 3, 4, 4, 3, 3, 3])  # Sum of feature counts for A\n",
    "P_X1_3_given_A = calculate_likelihood([3, 3, 4], total_A, 3)\n",
    "P_X2_4_given_A = calculate_likelihood([4, 3, 3, 3], total_A, 4)\n",
    "\n",
    "# Class B likelihoods:\n",
    "total_B = sum([2, 2, 1, 2, 2, 2, 3])  # Sum of feature counts for B\n",
    "P_X1_3_given_B = calculate_likelihood([2, 2, 1], total_B, 3)\n",
    "P_X2_4_given_B = calculate_likelihood([2, 2, 2, 3], total_B, 4)\n",
    "\n",
    "# Posterior Probabilities:\n",
    "P_A_given_data = P_X1_3_given_A * P_X2_4_given_A * P_A\n",
    "P_B_given_data = P_X1_3_given_B * P_X2_4_given_B * P_B\n",
    "\n",
    "# Prediction:\n",
    "predicted_class = 'A' if P_A_given_data > P_B_given_data else 'B'\n",
    "\n",
    "print(f\"Class A posterior: {P_A_given_data:.4f}\")\n",
    "print(f\"Class B posterior: {P_B_given_data:.4f}\")\n",
    "print(f\"Predicted class: {predicted_class}\")\n",
    "\n",
    "# Note: This solution assumes the features are independent (Naive Bayes assumption) and the dataset is valid for the calculation.\n"
   ]
  },
  {
   "cell_type": "code",
   "execution_count": null,
   "metadata": {},
   "outputs": [],
   "source": []
  }
 ],
 "metadata": {
  "kernelspec": {
   "display_name": "Python 3",
   "language": "python",
   "name": "python3"
  },
  "language_info": {
   "codemirror_mode": {
    "name": "ipython",
    "version": 3
   },
   "file_extension": ".py",
   "mimetype": "text/x-python",
   "name": "python",
   "nbconvert_exporter": "python",
   "pygments_lexer": "ipython3",
   "version": "3.11.9"
  }
 },
 "nbformat": 4,
 "nbformat_minor": 2
}
